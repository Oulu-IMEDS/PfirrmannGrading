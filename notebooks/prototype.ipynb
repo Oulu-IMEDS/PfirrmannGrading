{
 "cells": [
  {
   "cell_type": "code",
   "execution_count": 41,
   "metadata": {
    "pycharm": {
     "name": "#%%\n"
    }
   },
   "outputs": [
    {
     "data": {
      "text/plain": [
       "191"
      ]
     },
     "execution_count": 41,
     "metadata": {},
     "output_type": "execute_result"
    }
   ],
   "source": [
    "import numpy as np\n",
    "np.random.randint(0,253)"
   ]
  },
  {
   "cell_type": "code",
   "execution_count": 45,
   "metadata": {
    "pycharm": {
     "name": "#%%\n"
    }
   },
   "outputs": [
    {
     "data": {
      "text/plain": [
       "[5, 3, 6]"
      ]
     },
     "execution_count": 45,
     "metadata": {},
     "output_type": "execute_result"
    }
   ],
   "source": [
    "import random\n",
    "a=[1,2,3,3,4,5,343,576,56,3,1,2,5,256,6,2]\n",
    "random.choices(a, k=3)"
   ]
  },
  {
   "cell_type": "code",
   "execution_count": 4,
   "outputs": [
    {
     "name": "stdout",
     "output_type": "stream",
     "text": [
      "[1 1 1 ... 1 1 2]\n",
      "4239\n",
      "[1 2 3 4]\n"
     ]
    }
   ],
   "source": [
    "import numpy as np\n",
    "abc=np.load(\"/home/nash/PycharmProjects/PfirrmannGrading/outputs/2022-04-22/14-01-18/results/plots/04-22-2022_140118/y_pred_1.npy\")\n",
    "print(abc)\n",
    "print(len(abc))\n",
    "print(np.unique(abc))"
   ],
   "metadata": {
    "collapsed": false,
    "pycharm": {
     "name": "#%%\n"
    }
   }
  },
  {
   "cell_type": "code",
   "execution_count": 46,
   "metadata": {
    "pycharm": {
     "name": "#%%\n"
    }
   },
   "outputs": [
    {
     "data": {
      "text/html": [
       "<div>\n",
       "<style scoped>\n",
       "    .dataframe tbody tr th:only-of-type {\n",
       "        vertical-align: middle;\n",
       "    }\n",
       "\n",
       "    .dataframe tbody tr th {\n",
       "        vertical-align: top;\n",
       "    }\n",
       "\n",
       "    .dataframe thead th {\n",
       "        text-align: right;\n",
       "    }\n",
       "</style>\n",
       "<table border=\"1\" class=\"dataframe\">\n",
       "  <thead>\n",
       "    <tr style=\"text-align: right;\">\n",
       "      <th></th>\n",
       "      <th>a</th>\n",
       "    </tr>\n",
       "  </thead>\n",
       "  <tbody>\n",
       "    <tr>\n",
       "      <th>0</th>\n",
       "      <td>1</td>\n",
       "    </tr>\n",
       "    <tr>\n",
       "      <th>1</th>\n",
       "      <td>2</td>\n",
       "    </tr>\n",
       "    <tr>\n",
       "      <th>2</th>\n",
       "      <td>3</td>\n",
       "    </tr>\n",
       "    <tr>\n",
       "      <th>3</th>\n",
       "      <td>3</td>\n",
       "    </tr>\n",
       "    <tr>\n",
       "      <th>4</th>\n",
       "      <td>4</td>\n",
       "    </tr>\n",
       "  </tbody>\n",
       "</table>\n",
       "</div>"
      ],
      "text/plain": [
       "   a\n",
       "0  1\n",
       "1  2\n",
       "2  3\n",
       "3  3\n",
       "4  4"
      ]
     },
     "execution_count": 46,
     "metadata": {},
     "output_type": "execute_result"
    }
   ],
   "source": [
    "import pandas as pd\n",
    "df=pd.DataFrame(data=a,columns=['a'])\n",
    "df.head()"
   ]
  },
  {
   "cell_type": "code",
   "execution_count": 3,
   "metadata": {
    "pycharm": {
     "name": "#%%\n"
    }
   },
   "outputs": [
    {
     "name": "stdout",
     "output_type": "stream",
     "text": [
      "['P7041_01', 'P7041_02', 'P7041_03', 'P7041_04', 'P7041_03', 'P7041_05']\n"
     ]
    }
   ],
   "source": [
    "images=['P7041_01_IMG2343.png','P7041_02_IMG2343.png','P7041_03_IMG2343.png','P7041_04_IMG2343.png','P7041_03_IMG2343.png','P7041_05_IMG2343.png']\n",
    "patient_ids=[x.split('_IMG')[0] for x in images]\n",
    "print(patient_ids)"
   ]
  },
  {
   "cell_type": "code",
   "execution_count": 13,
   "metadata": {
    "pycharm": {
     "name": "#%%\n"
    }
   },
   "outputs": [],
   "source": [
    "import cv2\n",
    "import os\n",
    "import matplotlib.pyplot as plt\n",
    "import numpy as np"
   ]
  },
  {
   "cell_type": "code",
   "execution_count": 3,
   "metadata": {
    "pycharm": {
     "name": "#%%\n"
    }
   },
   "outputs": [
    {
     "name": "stdout",
     "output_type": "stream",
     "text": [
      "010166+0013\n"
     ]
    }
   ],
   "source": [
    "parts=\"IMG010166_0013_00000.png\".split(\"_\")\n",
    "patient_id=parts[0].replace(\"IMG\",\"\")+\"+\"+parts[1]\n",
    "print(patient_id)"
   ]
  },
  {
   "cell_type": "code",
   "execution_count": 17,
   "metadata": {
    "pycharm": {
     "name": "#%%\n"
    }
   },
   "outputs": [],
   "source": [
    "import pandas as pd\n",
    "from glob import glob\n",
    "import numpy as np\n",
    "from tqdm import tqdm\n",
    "from pathlib import PurePath,Path\n",
    "from collections."
   ]
  },
  {
   "cell_type": "code",
   "execution_count": 10,
   "metadata": {
    "pycharm": {
     "name": "#%%\n"
    }
   },
   "outputs": [
    {
     "data": {
      "text/html": [
       "<div>\n",
       "<style scoped>\n",
       "    .dataframe tbody tr th:only-of-type {\n",
       "        vertical-align: middle;\n",
       "    }\n",
       "\n",
       "    .dataframe tbody tr th {\n",
       "        vertical-align: top;\n",
       "    }\n",
       "\n",
       "    .dataframe thead th {\n",
       "        text-align: right;\n",
       "    }\n",
       "</style>\n",
       "<table border=\"1\" class=\"dataframe\">\n",
       "  <thead>\n",
       "    <tr style=\"text-align: right;\">\n",
       "      <th></th>\n",
       "      <th>project_ID</th>\n",
       "      <th>PatientID</th>\n",
       "      <th>gender</th>\n",
       "      <th>C6646C_lsMRI_Pfirrmann_L1_L2</th>\n",
       "      <th>C6646C_lsMRI_Pfirrmann_L2_L3</th>\n",
       "      <th>C6646C_lsMRI_Pfirrmann_L3_L4</th>\n",
       "      <th>C6646C_lsMRI_Pfirrmann_L4_L5</th>\n",
       "      <th>C6646C_lsMRI_Pfirrmann_L5_S1</th>\n",
       "      <th>C6646C_lsMRI_VV_Pfirrmann_L1_L2</th>\n",
       "      <th>C6646C_lsMRI_VV_Pfirrmann_L2_L3</th>\n",
       "      <th>C6646C_lsMRI_VV_Pfirrmann_L3_L4</th>\n",
       "      <th>C6646C_lsMRI_VV_Pfirrmann_L4_L5</th>\n",
       "      <th>C6646C_lsMRI_VV_Pfirrmann_L5_S1</th>\n",
       "      <th>C6646C_weigth_height_003</th>\n",
       "      <th>C6646C_weigth_height_004</th>\n",
       "      <th>C6646C_weigth_height_005</th>\n",
       "      <th>C6646C_weigth_height_006</th>\n",
       "      <th>C6646C_weigth_height_007</th>\n",
       "    </tr>\n",
       "  </thead>\n",
       "  <tbody>\n",
       "    <tr>\n",
       "      <th>0</th>\n",
       "      <td>P0741_10000</td>\n",
       "      <td>010166+0524</td>\n",
       "      <td>2</td>\n",
       "      <td>3</td>\n",
       "      <td>3</td>\n",
       "      <td>3</td>\n",
       "      <td>3</td>\n",
       "      <td>4</td>\n",
       "      <td>2</td>\n",
       "      <td>2</td>\n",
       "      <td>2</td>\n",
       "      <td>4</td>\n",
       "      <td>5</td>\n",
       "      <td>171.2</td>\n",
       "      <td>171.4</td>\n",
       "      <td>69.5</td>\n",
       "      <td>171.30</td>\n",
       "      <td>23.684819</td>\n",
       "    </tr>\n",
       "    <tr>\n",
       "      <th>1</th>\n",
       "      <td>P0741_10023</td>\n",
       "      <td>010166+1684</td>\n",
       "      <td>1</td>\n",
       "      <td>3</td>\n",
       "      <td>4</td>\n",
       "      <td>3</td>\n",
       "      <td>3</td>\n",
       "      <td>4</td>\n",
       "      <td>2</td>\n",
       "      <td>5</td>\n",
       "      <td>2</td>\n",
       "      <td>3</td>\n",
       "      <td>3</td>\n",
       "      <td>177.6</td>\n",
       "      <td>177.6</td>\n",
       "      <td>77.7</td>\n",
       "      <td>177.60</td>\n",
       "      <td>24.634009</td>\n",
       "    </tr>\n",
       "    <tr>\n",
       "      <th>2</th>\n",
       "      <td>P0741_10043</td>\n",
       "      <td>010166+1402</td>\n",
       "      <td>1</td>\n",
       "      <td>2</td>\n",
       "      <td>2</td>\n",
       "      <td>3</td>\n",
       "      <td>5</td>\n",
       "      <td>5</td>\n",
       "      <td>2</td>\n",
       "      <td>2</td>\n",
       "      <td>3</td>\n",
       "      <td>5</td>\n",
       "      <td>5</td>\n",
       "      <td>185.6</td>\n",
       "      <td>185.5</td>\n",
       "      <td>114.2</td>\n",
       "      <td>185.55</td>\n",
       "      <td>33.169902</td>\n",
       "    </tr>\n",
       "  </tbody>\n",
       "</table>\n",
       "</div>"
      ],
      "text/plain": [
       "    project_ID    PatientID  gender  C6646C_lsMRI_Pfirrmann_L1_L2  \\\n",
       "0  P0741_10000  010166+0524       2                             3   \n",
       "1  P0741_10023  010166+1684       1                             3   \n",
       "2  P0741_10043  010166+1402       1                             2   \n",
       "\n",
       "   C6646C_lsMRI_Pfirrmann_L2_L3  C6646C_lsMRI_Pfirrmann_L3_L4  \\\n",
       "0                             3                             3   \n",
       "1                             4                             3   \n",
       "2                             2                             3   \n",
       "\n",
       "   C6646C_lsMRI_Pfirrmann_L4_L5  C6646C_lsMRI_Pfirrmann_L5_S1  \\\n",
       "0                             3                             4   \n",
       "1                             3                             4   \n",
       "2                             5                             5   \n",
       "\n",
       "   C6646C_lsMRI_VV_Pfirrmann_L1_L2  C6646C_lsMRI_VV_Pfirrmann_L2_L3  \\\n",
       "0                                2                                2   \n",
       "1                                2                                5   \n",
       "2                                2                                2   \n",
       "\n",
       "   C6646C_lsMRI_VV_Pfirrmann_L3_L4  C6646C_lsMRI_VV_Pfirrmann_L4_L5  \\\n",
       "0                                2                                4   \n",
       "1                                2                                3   \n",
       "2                                3                                5   \n",
       "\n",
       "   C6646C_lsMRI_VV_Pfirrmann_L5_S1  C6646C_weigth_height_003  \\\n",
       "0                                5                     171.2   \n",
       "1                                3                     177.6   \n",
       "2                                5                     185.6   \n",
       "\n",
       "   C6646C_weigth_height_004  C6646C_weigth_height_005  \\\n",
       "0                     171.4                      69.5   \n",
       "1                     177.6                      77.7   \n",
       "2                     185.5                     114.2   \n",
       "\n",
       "   C6646C_weigth_height_006  C6646C_weigth_height_007  \n",
       "0                    171.30                 23.684819  \n",
       "1                    177.60                 24.634009  \n",
       "2                    185.55                 33.169902  "
      ]
     },
     "execution_count": 10,
     "metadata": {},
     "output_type": "execute_result"
    }
   ],
   "source": [
    "df=pd.read_csv('/data/NFBC/NFBC_PfirrmannGrades.csv')\n",
    "df.head(3)"
   ]
  },
  {
   "cell_type": "code",
   "execution_count": 31,
   "metadata": {
    "scrolled": true,
    "pycharm": {
     "name": "#%%\n"
    }
   },
   "outputs": [
    {
     "data": {
      "text/plain": [
       "True"
      ]
     },
     "execution_count": 31,
     "metadata": {},
     "output_type": "execute_result"
    }
   ],
   "source": [
    "np.any(np.array([1,2,3]))"
   ]
  },
  {
   "cell_type": "code",
   "execution_count": 35,
   "metadata": {
    "pycharm": {
     "name": "#%%\n"
    }
   },
   "outputs": [
    {
     "name": "stdout",
     "output_type": "stream",
     "text": [
      "hello\n"
     ]
    }
   ],
   "source": [
    "abc=(1)\n",
    "if abc:\n",
    "    print('hello')"
   ]
  },
  {
   "cell_type": "code",
   "execution_count": 23,
   "metadata": {
    "scrolled": true,
    "pycharm": {
     "name": "#%%\n"
    }
   },
   "outputs": [
    {
     "data": {
      "text/plain": [
       "Index(['project_ID', 'PatientID', 'gender', 'C6646C_lsMRI_Pfirrmann_L1_L2',\n",
       "       'C6646C_lsMRI_Pfirrmann_L2_L3', 'C6646C_lsMRI_Pfirrmann_L3_L4',\n",
       "       'C6646C_lsMRI_Pfirrmann_L4_L5', 'C6646C_lsMRI_Pfirrmann_L5_S1',\n",
       "       'C6646C_lsMRI_VV_Pfirrmann_L1_L2', 'C6646C_lsMRI_VV_Pfirrmann_L2_L3',\n",
       "       'C6646C_lsMRI_VV_Pfirrmann_L3_L4', 'C6646C_lsMRI_VV_Pfirrmann_L4_L5',\n",
       "       'C6646C_lsMRI_VV_Pfirrmann_L5_S1', 'C6646C_weigth_height_003',\n",
       "       'C6646C_weigth_height_004', 'C6646C_weigth_height_005',\n",
       "       'C6646C_weigth_height_006', 'C6646C_weigth_height_007'],\n",
       "      dtype='object')"
      ]
     },
     "execution_count": 23,
     "metadata": {},
     "output_type": "execute_result"
    }
   ],
   "source": [
    "df.columns"
   ]
  },
  {
   "cell_type": "code",
   "execution_count": 22,
   "metadata": {
    "pycharm": {
     "name": "#%%\n"
    }
   },
   "outputs": [
    {
     "name": "stderr",
     "output_type": "stream",
     "text": [
      "Classifying MRIs: 100%|█| 1428/1428 [00:12<00:00, \n"
     ]
    }
   ],
   "source": [
    "patient_ids=df.PatientID.values\n",
    "mri_path=\"/data/NFBC/NFBC_PNG_Dataset/sagittal/T2\"\n",
    "for patient_id in tqdm(patient_ids,ncols=50,desc=\"Classifying MRIs\"):\n",
    "    wildcard=\"IMG\"+patient_id.replace(\"+\",\"_\")+\"*\"\n",
    "    mri_count=0\n",
    "    for mri in list(PurePath.joinpath(Path(mri_path)).glob(wildcard)):\n",
    "        mri_count+=1\n",
    "    if mri_count < 5:    \n",
    "        print(f\"Patient ID:{patient_id} MRI Count:{mri_count}\")"
   ]
  },
  {
   "cell_type": "code",
   "execution_count": 20,
   "metadata": {
    "pycharm": {
     "name": "#%%\n"
    }
   },
   "outputs": [],
   "source": [
    "img=cv2.imread('/data/NFBC_Segmentation/masks/P0741_889_IMG00005.png')"
   ]
  },
  {
   "cell_type": "code",
   "execution_count": 15,
   "metadata": {
    "pycharm": {
     "name": "#%%\n"
    }
   },
   "outputs": [],
   "source": [
    "img_list=list(img.flatten())\n",
    "non_zeros=[x for x in img_list if x>=0]"
   ]
  },
  {
   "cell_type": "code",
   "execution_count": 16,
   "metadata": {
    "pycharm": {
     "name": "#%%\n"
    }
   },
   "outputs": [
    {
     "name": "stdout",
     "output_type": "stream",
     "text": [
      "[ 0  1  2  3  4  5  6  7  8  9 10 11 12 13]\n"
     ]
    }
   ],
   "source": [
    "print(np.unique(non_zeros))"
   ]
  },
  {
   "cell_type": "code",
   "execution_count": 21,
   "metadata": {
    "pycharm": {
     "name": "#%%\n"
    }
   },
   "outputs": [
    {
     "data": {
      "image/png": "[encoded data removed]",
      "text/plain": [
       "<Figure size 432x288 with 1 Axes>"
      ]
     },
     "metadata": {
      "needs_background": "light"
     },
     "output_type": "display_data"
    }
   ],
   "source": [
    "img[img >4]=0\n",
    "img[img <4]=0\n",
    "plt.imshow(img)\n",
    "plt.show()"
   ]
  },
  {
   "cell_type": "code",
   "execution_count": 23,
   "metadata": {
    "pycharm": {
     "name": "#%%\n"
    }
   },
   "outputs": [
    {
     "data": {
      "text/plain": [
       "14"
      ]
     },
     "execution_count": 23,
     "metadata": {},
     "output_type": "execute_result"
    }
   ],
   "source": [
    "len([ 0,1,2,3,4,5,6,7,8,9,10,11,12,13])"
   ]
  },
  {
   "cell_type": "code",
   "execution_count": 36,
   "metadata": {
    "pycharm": {
     "name": "#%%\n"
    }
   },
   "outputs": [
    {
     "name": "stdout",
     "output_type": "stream",
     "text": [
      "/data/NFBC_Segmentation/images\n"
     ]
    }
   ],
   "source": [
    "from pathlib import Path,PurePath\n",
    "print(PurePath.joinpath(Path('/data/NFBC_Segmentation','images')))\n",
    "#for i in Path.iterdir(PurePath.joinpath('/data/NFBC_Segmentation','images')):\n",
    "#    print(i)"
   ]
  },
  {
   "cell_type": "code",
   "execution_count": 32,
   "metadata": {
    "pycharm": {
     "name": "#%%\n"
    }
   },
   "outputs": [
    {
     "name": "stdout",
     "output_type": "stream",
     "text": [
      "/home/nash/PycharmProjects/PfirrmannGrading/notebooks\n",
      "/home/nash/PycharmProjects/PfirrmannGrading/src/model\n",
      "/home/nash/PycharmProjects/PfirrmannGrading/notebooks\n",
      "/home/nash/PycharmProjects/PfirrmannGrading/notebooks/prototype.ipynb\n"
     ]
    }
   ],
   "source": [
    "import pathlib\n",
    "from pathlib import Path,PurePath\n",
    "print(Path.cwd())\n",
    "path=os.path.join(\"/home/nash/PycharmProjects/PfirrmannGrading/src/model\")\n",
    "print(path)\n",
    "list(pathlib.Path(path).glob('model*'))\n",
    "\n",
    "print(pathlib.Path(PurePath.joinpath(Path.cwd())))\n",
    "if len(list(pathlib.Path(PurePath.joinpath(Path.cwd())).glob(\"prot*\")))>=1:\n",
    "    print(list(pathlib.Path(PurePath.joinpath(Path.cwd())).glob(\"prot*\"))[0])\n"
   ]
  }
 ],
 "metadata": {
  "kernelspec": {
   "display_name": "Python 3 (ipykernel)",
   "language": "python",
   "name": "python3"
  },
  "language_info": {
   "codemirror_mode": {
    "name": "ipython",
    "version": 3
   },
   "file_extension": ".py",
   "mimetype": "text/x-python",
   "name": "python",
   "nbconvert_exporter": "python",
   "pygments_lexer": "ipython3",
   "version": "3.9.7"
  }
 },
 "nbformat": 4,
 "nbformat_minor": 1
}